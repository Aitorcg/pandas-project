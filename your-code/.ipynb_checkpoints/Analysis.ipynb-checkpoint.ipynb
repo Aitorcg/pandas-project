{
 "cells": [
  {
   "cell_type": "markdown",
   "metadata": {},
   "source": [
    "ANALYSIS"
   ]
  },
  {
   "cell_type": "code",
   "execution_count": 1,
   "metadata": {},
   "outputs": [],
   "source": [
    "import pandas as pd\n",
    "import numpy as np\n"
   ]
  },
  {
   "cell_type": "code",
   "execution_count": null,
   "metadata": {},
   "outputs": [],
   "source": []
  },
  {
   "cell_type": "code",
   "execution_count": null,
   "metadata": {},
   "outputs": [],
   "source": [
    "1st part: FIRST TOY MODEL: demographics"
   ]
  },
  {
   "cell_type": "markdown",
   "metadata": {},
   "source": [
    "-We can observe that male between 16 and 22 ages are the most attacked\n",
    "\n",
    "\n",
    "-We also see that women suffer considerably fewer attacks than men\n"
   ]
  },
  {
   "cell_type": "code",
   "execution_count": null,
   "metadata": {},
   "outputs": [],
   "source": []
  },
  {
   "cell_type": "code",
   "execution_count": null,
   "metadata": {},
   "outputs": [],
   "source": []
  },
  {
   "cell_type": "code",
   "execution_count": null,
   "metadata": {},
   "outputs": [],
   "source": [
    "2nd part: TOY MODEL 2: space-time statistics\n",
    "        \n",
    "        "
   ]
  },
  {
   "cell_type": "markdown",
   "metadata": {},
   "source": [
    "-Florida is the area where an attack is more likely to happen\n",
    "\n",
    "-Surfing and swimming are the activities with a higher number of shark attacks"
   ]
  },
  {
   "cell_type": "code",
   "execution_count": null,
   "metadata": {},
   "outputs": [],
   "source": []
  },
  {
   "cell_type": "code",
   "execution_count": null,
   "metadata": {},
   "outputs": [],
   "source": []
  },
  {
   "cell_type": "code",
   "execution_count": 6,
   "metadata": {},
   "outputs": [],
   "source": []
  },
  {
   "cell_type": "code",
   "execution_count": 20,
   "metadata": {},
   "outputs": [],
   "source": [
    "variable_a=(\"Florida\", \"New South Wales\", \"Queensland\", \"Hawaii\", \"California\", \"Western Cape Province\", \"Western Australia\", \"Eastern Cape Province\", \"South Caroline\", \"South Australia\", \"North Caroline\", \"Victoria\", \"Pernambuco\",\"Texas\", \"North Island\", \"New Jersey\")\n",
    "\n",
    "variable_b=(\"1037\",\"486\", \"311\", \"298\", \"290\", \"195\", \"189\", \"160\", \"160\", \"104\", \"101\", \"90\", \"74\", \"73\", \"67\", \"52\")\n",
    "\n",
    "variable_c=(\"26,92\", \"20,42\",\"23,33\", \"25,25\", \"17,08\", \"16,58\", \"20,75\", \"17,5\", \"22,5\", \"17,08\", \"22\", \"15,58\", \"27,17\", \"22,75\", \"7,08\", \"12,92\")\n",
    "\n",
    "data={ 'Areas':variable_a,\n",
    "       'Number_of_attacks': variable_b,\n",
    "       'Average_sea_temperature_ºC': variable_c}"
   ]
  },
  {
   "cell_type": "code",
   "execution_count": 21,
   "metadata": {},
   "outputs": [],
   "source": [
    "df=pd.DataFrame(data)"
   ]
  },
  {
   "attachments": {
    "OIP.jpg": {
     "image/jpeg": "[encoded data removed]"
    }
   },
   "cell_type": "markdown",
   "metadata": {},
   "source": [
    "![OIP.jpg](attachment:OIP.jpg)"
   ]
  },
  {
   "cell_type": "code",
   "execution_count": 22,
   "metadata": {},
   "outputs": [
    {
     "data": {
      "text/html": [
       "<div>\n",
       "<style scoped>\n",
       "    .dataframe tbody tr th:only-of-type {\n",
       "        vertical-align: middle;\n",
       "    }\n",
       "\n",
       "    .dataframe tbody tr th {\n",
       "        vertical-align: top;\n",
       "    }\n",
       "\n",
       "    .dataframe thead th {\n",
       "        text-align: right;\n",
       "    }\n",
       "</style>\n",
       "<table border=\"1\" class=\"dataframe\">\n",
       "  <thead>\n",
       "    <tr style=\"text-align: right;\">\n",
       "      <th></th>\n",
       "      <th>Areas</th>\n",
       "      <th>Number_of_attacks</th>\n",
       "      <th>Average_sea_temperature_ºC</th>\n",
       "    </tr>\n",
       "  </thead>\n",
       "  <tbody>\n",
       "    <tr>\n",
       "      <th>0</th>\n",
       "      <td>Florida</td>\n",
       "      <td>1037</td>\n",
       "      <td>26,92</td>\n",
       "    </tr>\n",
       "    <tr>\n",
       "      <th>1</th>\n",
       "      <td>New South Wales</td>\n",
       "      <td>486</td>\n",
       "      <td>20,42</td>\n",
       "    </tr>\n",
       "    <tr>\n",
       "      <th>2</th>\n",
       "      <td>Queensland</td>\n",
       "      <td>311</td>\n",
       "      <td>23,33</td>\n",
       "    </tr>\n",
       "    <tr>\n",
       "      <th>3</th>\n",
       "      <td>Hawaii</td>\n",
       "      <td>298</td>\n",
       "      <td>25,25</td>\n",
       "    </tr>\n",
       "    <tr>\n",
       "      <th>4</th>\n",
       "      <td>California</td>\n",
       "      <td>290</td>\n",
       "      <td>17,08</td>\n",
       "    </tr>\n",
       "    <tr>\n",
       "      <th>5</th>\n",
       "      <td>Western Cape Province</td>\n",
       "      <td>195</td>\n",
       "      <td>16,58</td>\n",
       "    </tr>\n",
       "    <tr>\n",
       "      <th>6</th>\n",
       "      <td>Western Australia</td>\n",
       "      <td>189</td>\n",
       "      <td>20,75</td>\n",
       "    </tr>\n",
       "    <tr>\n",
       "      <th>7</th>\n",
       "      <td>Eastern Cape Province</td>\n",
       "      <td>160</td>\n",
       "      <td>17,5</td>\n",
       "    </tr>\n",
       "    <tr>\n",
       "      <th>8</th>\n",
       "      <td>South Caroline</td>\n",
       "      <td>160</td>\n",
       "      <td>22,5</td>\n",
       "    </tr>\n",
       "    <tr>\n",
       "      <th>9</th>\n",
       "      <td>South Australia</td>\n",
       "      <td>104</td>\n",
       "      <td>17,08</td>\n",
       "    </tr>\n",
       "    <tr>\n",
       "      <th>10</th>\n",
       "      <td>North Caroline</td>\n",
       "      <td>101</td>\n",
       "      <td>22</td>\n",
       "    </tr>\n",
       "    <tr>\n",
       "      <th>11</th>\n",
       "      <td>Victoria</td>\n",
       "      <td>90</td>\n",
       "      <td>15,58</td>\n",
       "    </tr>\n",
       "    <tr>\n",
       "      <th>12</th>\n",
       "      <td>Pernambuco</td>\n",
       "      <td>74</td>\n",
       "      <td>27,17</td>\n",
       "    </tr>\n",
       "    <tr>\n",
       "      <th>13</th>\n",
       "      <td>Texas</td>\n",
       "      <td>73</td>\n",
       "      <td>22,75</td>\n",
       "    </tr>\n",
       "    <tr>\n",
       "      <th>14</th>\n",
       "      <td>North Island</td>\n",
       "      <td>67</td>\n",
       "      <td>7,08</td>\n",
       "    </tr>\n",
       "    <tr>\n",
       "      <th>15</th>\n",
       "      <td>New Jersey</td>\n",
       "      <td>52</td>\n",
       "      <td>12,92</td>\n",
       "    </tr>\n",
       "  </tbody>\n",
       "</table>\n",
       "</div>"
      ],
      "text/plain": [
       "                    Areas Number_of_attacks Average_sea_temperature_ºC\n",
       "0                 Florida              1037                      26,92\n",
       "1         New South Wales               486                      20,42\n",
       "2              Queensland               311                      23,33\n",
       "3                  Hawaii               298                      25,25\n",
       "4              California               290                      17,08\n",
       "5   Western Cape Province               195                      16,58\n",
       "6       Western Australia               189                      20,75\n",
       "7   Eastern Cape Province               160                       17,5\n",
       "8          South Caroline               160                       22,5\n",
       "9         South Australia               104                      17,08\n",
       "10         North Caroline               101                         22\n",
       "11               Victoria                90                      15,58\n",
       "12             Pernambuco                74                      27,17\n",
       "13                  Texas                73                      22,75\n",
       "14           North Island                67                       7,08\n",
       "15             New Jersey                52                      12,92"
      ]
     },
     "execution_count": 22,
     "metadata": {},
     "output_type": "execute_result"
    }
   ],
   "source": [
    "df\n",
    "#Areas with more than 50 attacks"
   ]
  },
  {
   "cell_type": "markdown",
   "metadata": {},
   "source": [
    "We can observe that the myth \"sharks are only in warm water areas\" is not completely truth. Here we have a dataframe which the areas where more shark's attacks have ocurred. As you see, there are 7 areas with an average sea temperature under 22 degrees... and one of them is New South Wales, the second place where more attacks happened.\n"
   ]
  },
  {
   "cell_type": "code",
   "execution_count": null,
   "metadata": {},
   "outputs": [],
   "source": []
  }
 ],
 "metadata": {
  "kernelspec": {
   "display_name": "Python 3",
   "language": "python",
   "name": "python3"
  },
  "language_info": {
   "codemirror_mode": {
    "name": "ipython",
    "version": 3
   },
   "file_extension": ".py",
   "mimetype": "text/x-python",
   "name": "python",
   "nbconvert_exporter": "python",
   "pygments_lexer": "ipython3",
   "version": "3.8.5"
  }
 },
 "nbformat": 4,
 "nbformat_minor": 4
}
